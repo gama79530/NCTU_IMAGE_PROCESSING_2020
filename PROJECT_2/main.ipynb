{
 "metadata": {
  "language_info": {
   "codemirror_mode": {
    "name": "ipython",
    "version": 3
   },
   "file_extension": ".py",
   "mimetype": "text/x-python",
   "name": "python",
   "nbconvert_exporter": "python",
   "pygments_lexer": "ipython3",
   "version": "3.8.5-final"
  },
  "orig_nbformat": 2,
  "kernelspec": {
   "name": "python3",
   "display_name": "Python 3",
   "language": "python"
  }
 },
 "nbformat": 4,
 "nbformat_minor": 2,
 "cells": [
  {
   "source": [
    "# Prepare experiment"
   ],
   "cell_type": "markdown",
   "metadata": {}
  },
  {
   "cell_type": "code",
   "execution_count": 1,
   "metadata": {},
   "outputs": [],
   "source": [
    "from widgets import *\n",
    "from tasks import *\n",
    "import numpy as np\n",
    "import cv2\n",
    "import os\n",
    "\n",
    "result_path = os.path.join(os.path.dirname(os.getcwd()), 'result')\n",
    "if not os.path.exists(result_path):\n",
    "    os.mkdir(result_path)\n",
    "result_path = os.path.join(result_path, 'PROJECT_2')\n",
    "if not os.path.exists(result_path):\n",
    "    os.mkdir(result_path)"
   ]
  },
  {
   "source": [
    "# Edge detector 1 : Gradient magnitudes & Thresholding"
   ],
   "cell_type": "markdown",
   "metadata": {}
  },
  {
   "cell_type": "code",
   "execution_count": null,
   "metadata": {},
   "outputs": [],
   "source": [
    "# load image\n",
    "img_detector1_name = 'p1im5.png'\n",
    "img_detector1_path = os.path.join(os.path.dirname(os.getcwd()), 'images', img_detector1_name)\n",
    "img_detector1 = cv2.imread(img_detector1_path)\n",
    "\n",
    "# detection\n",
    "threshold = 150\n",
    "gradient_filter='sobel'\n",
    "mode='reflect'\n",
    "metric = 'L1'\n",
    "kwargs = {}\n",
    "img_detector1_result = detector1(img_detector1, threshold, gradient_filter, mode, metric, **kwargs)\n",
    "\n",
    "# show result\n",
    "if len(img_detector1.shape) == 3:\n",
    "    img_detector1_result = np.stack((img_detector1_result, img_detector1_result, img_detector1_result), axis=2)\n",
    "\n",
    "img_detector1_result_show = np.concatenate([img_detector1, img_detector1_result], axis=1)\n",
    "jupyter_img_show(img_detector1_result_show)\n",
    "\n",
    "# save image\n",
    "img_detector1_result_name = 'detector1_result .png'\n",
    "img_detector1_result_path = os.path.join(result_path, img_detector1_result_name)\n",
    "cv2.imwrite(img_detector1_result_path, img_detector1_result)"
   ]
  },
  {
   "source": [
    "# Edge detector 2 : Laplacian of Gaussian filter & zero crossing"
   ],
   "cell_type": "markdown",
   "metadata": {}
  },
  {
   "cell_type": "code",
   "execution_count": null,
   "metadata": {},
   "outputs": [],
   "source": [
    "# load image\n",
    "img_detector2_name = 'p1im5.png'\n",
    "img_detector2_path = os.path.join(os.path.dirname(os.getcwd()), 'images', img_detector2_name)\n",
    "img_detector2 = cv2.imread(img_detector2_path)\n",
    "   \n",
    "# detection\n",
    "kernel_size = 7\n",
    "sigma = 1.1\n",
    "mode ='reflect'\n",
    "channel_merging = 1\n",
    "kwargs = {}\n",
    "img_detector2_result = detector2(img_detector2, kernel_size, sigma, mode, channel_merging, **kwargs)\n",
    "\n",
    "# show result\n",
    "if len(img_detector2.shape) == 3:\n",
    "    img_detector2_result = np.stack((img_detector2_result, img_detector2_result, img_detector2_result), axis=2)\n",
    "\n",
    "img_detector2_result_show = np.concatenate([img_detector2, img_detector2_result], axis=1)\n",
    "jupyter_img_show(img_detector2_result_show)\n",
    "\n",
    "# save image\n",
    "img_detector2_result_name = 'detector2_result .png'\n",
    "img_detector2_result_path = os.path.join(result_path, img_detector2_result_name)\n",
    "cv2.imwrite(img_detector2_result_path, img_detector2_result)"
   ]
  },
  {
   "source": [
    "# Hough trannsform\n",
    "\n",
    "## stage 1"
   ],
   "cell_type": "markdown",
   "metadata": {}
  },
  {
   "cell_type": "code",
   "execution_count": null,
   "metadata": {},
   "outputs": [],
   "source": [
    "# load image\n",
    "img_hough_name = 'p1im5.png'\n",
    "img_hough_path = os.path.join(os.path.dirname(os.getcwd()), 'images', img_hough_name)\n",
    "img_hough = cv2.imread(img_hough_path)\n",
    "\n",
    "# set edge detect parameters\n",
    "resolution = (180,300)\n",
    "line_stretch = False\n",
    "edge_weights = None\n",
    "edge_threshold = 150 # optional\n",
    "gradient_filter = 'sobel' # optional\n",
    "mode = 'reflect' # optional\n",
    "metric = 'L1' # optional\n",
    "kwargs = {} # optional\n",
    "\n",
    "# prepare\n",
    "h = Hough_Line_Detection(img_hough, resolution, line_stretch, edge_weights)\n",
    "print(h.prepare(edge_threshold=edge_threshold, gradient_filter=gradient_filter, mode=mode, metric=metric, **kwargs))"
   ]
  },
  {
   "source": [
    "## stage 2"
   ],
   "cell_type": "markdown",
   "metadata": {}
  },
  {
   "cell_type": "code",
   "execution_count": null,
   "metadata": {},
   "outputs": [],
   "source": [
    "# line detect\n",
    "threshold = 2700\n",
    "line_width = 2\n",
    "img_hough_result = h.line_detect(threshold, line_width)\n",
    "jupyter_img_show(img_hough_result)\n",
    "\n",
    "# save image\n",
    "img_hough_result_name = 'hough_result.png'\n",
    "img_hough_result_path = os.path.join(result_path, img_hough_result_name)\n",
    "cv2.imwrite(img_hough_result_path, img_hough_result)"
   ]
  }
 ]
}